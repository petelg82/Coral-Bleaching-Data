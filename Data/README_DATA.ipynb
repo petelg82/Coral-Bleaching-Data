{
  "nbformat": 4,
  "nbformat_minor": 0,
  "metadata": {
    "colab": {
      "provenance": []
    },
    "kernelspec": {
      "name": "python3",
      "display_name": "Python 3"
    },
    "language_info": {
      "name": "python"
    }
  },
  "cells": [
    {
      "cell_type": "markdown",
      "source": [
        "# **Data Folder Contents**\n",
        "\n",
        "\n",
        "---\n",
        "\n",
        "\n",
        "1.   [global_bleaching_data.csv](https://drive.google.com/file/d/1w51og8CfP_Q-5Ov89z3_o3DRoBFeZrgR/view?usp=sharing) - this is the raw dataset\n",
        "\n",
        "2.   [TooHotAtlantic.csv](https://drive.google.com/file/d/1I5illrr4bidbGfRCCm7N4o9Fu132ROVx/view?usp=sharing) - this is the filtered data that shows rows from the raw dataset located in the Pacific Ocean with a mean temperature over 302.15 Kelvin\n",
        "\n",
        "3. [Instructions](https://colab.research.google.com/drive/1nMsS05bNzz8i-NhhZlGrUptB9BgrykL5?usp=sharing) on how to turn the raw dataset into the TooHotAtlantic subset\n",
        "\n",
        "\n",
        "\n",
        "\n"
      ],
      "metadata": {
        "id": "wxv759eiOngR"
      }
    }
  ]
}